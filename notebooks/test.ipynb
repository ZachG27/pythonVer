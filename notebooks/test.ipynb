{
 "cells": [
  {
   "cell_type": "code",
   "execution_count": null,
   "id": "05539302",
   "metadata": {},
   "outputs": [],
   "source": [
    "from pathlib import pathlib\n",
    "import pandas as pd\n",
    "from src.run_pipeline import init_data\n",
    "from src config import RAW_DIR\n",
    "\n",
    "dfs = init_data(RAW_DIR)\n",
    "\n",
    "list(dfs.keys())[:5]\n",
    "df0 = dfs[list(dfs.key())[0]]\n",
    "df0.head()"
   ]
  }
 ],
 "metadata": {
  "kernelspec": {
   "display_name": "Python 3",
   "language": "python",
   "name": "python3"
  },
  "language_info": {
   "name": "python",
   "version": "3.12.3"
  }
 },
 "nbformat": 4,
 "nbformat_minor": 5
}
